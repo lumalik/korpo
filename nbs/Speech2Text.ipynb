{
 "cells": [
  {
   "cell_type": "code",
   "execution_count": 9,
   "metadata": {},
   "outputs": [],
   "source": [
    "#!pip install SpeechRecognition\n",
    "#!brew install portaudio\n",
    "#!pip install pyaudio"
   ]
  },
  {
   "cell_type": "code",
   "execution_count": 10,
   "metadata": {},
   "outputs": [],
   "source": [
    "import speech_recognition as sr "
   ]
  },
  {
   "cell_type": "code",
   "execution_count": 19,
   "metadata": {},
   "outputs": [],
   "source": [
    "r.listen??"
   ]
  },
  {
   "cell_type": "code",
   "execution_count": 14,
   "metadata": {},
   "outputs": [],
   "source": [
    "r.recognize_google??"
   ]
  },
  {
   "cell_type": "code",
   "execution_count": 30,
   "metadata": {},
   "outputs": [],
   "source": [
    "r.adjust_for_ambient_noise??"
   ]
  },
  {
   "cell_type": "code",
   "execution_count": 33,
   "metadata": {},
   "outputs": [
    {
     "name": "stdout",
     "output_type": "stream",
     "text": [
      "Please say something ...\n",
      "alright so I'm testing test test test test blah blah blah blah blah blah blah blah blah blah blah blah blah test test test testing test test test test test test test test test test still testing test blah blah blah blah blah blah blah blah I'm getting a message blah blah blah blah blah blah blah blah blah blah blah blah blah blah\n"
     ]
    }
   ],
   "source": [
    "# From microphone \n",
    "r = sr.Recognizer()\n",
    "\n",
    "with sr.Microphone() as source: \n",
    "    r.adjust_for_ambient_noise(source)\n",
    "    \n",
    "    print(\"Please say something ...\")\n",
    "    \n",
    "    # for single phrase \n",
    "    #audio = r.listen(source, phrase_time_limit = 120)\n",
    "    \n",
    "    # in order to record for duration \n",
    "    audio = r.record(source, duration=120)\n",
    "    \n",
    "    try: \n",
    "        print(r.recognize_google(audio))\n",
    "    \n",
    "    except Exception as e:\n",
    "        print(\"Error : \" + str(e))\n",
    "        \n",
    "    #save recording \n",
    "    with open(\"../audios/audio_recording.wav\", \"wb\") as f: \n",
    "        f.write(audio.get_wav_data())"
   ]
  },
  {
   "cell_type": "code",
   "execution_count": 35,
   "metadata": {},
   "outputs": [
    {
     "name": "stdout",
     "output_type": "stream",
     "text": [
      "Converting Audio to Text ...\n",
      "alright so I'm testing test test test test blah blah blah blah blah blah blah blah blah blah blah blah blah blah blah test test test testing test test test test test test test test test test still testing test blah blah blah blah blah blah blah blah I'm getting a message see you love blah blah blah blah blah blah blah blah blah blah blah blah\n"
     ]
    }
   ],
   "source": [
    "# From file \n",
    "r = sr.Recognizer()\n",
    "\n",
    "#file = \"../audios/recording_coralie_1.wav\"\n",
    "file = \"../audios/audio_recording.wav\"\n",
    "\n",
    "with sr.AudioFile(file) as source: \n",
    "    r.adjust_for_ambient_noise(source)\n",
    "    \n",
    "    print(\"Converting Audio to Text ...\")\n",
    "    \n",
    "    audio = r.record(source)\n",
    "    \n",
    "    try: \n",
    "        print(r.recognize_google(audio))\n",
    "    \n",
    "    except Exception as e:\n",
    "        print(\"Error : \" + str(e))\n",
    "        "
   ]
  },
  {
   "cell_type": "code",
   "execution_count": null,
   "metadata": {},
   "outputs": [],
   "source": []
  },
  {
   "cell_type": "code",
   "execution_count": null,
   "metadata": {},
   "outputs": [],
   "source": []
  },
  {
   "cell_type": "code",
   "execution_count": null,
   "metadata": {},
   "outputs": [],
   "source": []
  },
  {
   "cell_type": "code",
   "execution_count": null,
   "metadata": {},
   "outputs": [],
   "source": []
  }
 ],
 "metadata": {
  "kernelspec": {
   "display_name": "Python 3",
   "language": "python",
   "name": "python3"
  },
  "language_info": {
   "codemirror_mode": {
    "name": "ipython",
    "version": 3
   },
   "file_extension": ".py",
   "mimetype": "text/x-python",
   "name": "python",
   "nbconvert_exporter": "python",
   "pygments_lexer": "ipython3",
   "version": "3.7.1"
  }
 },
 "nbformat": 4,
 "nbformat_minor": 2
}
